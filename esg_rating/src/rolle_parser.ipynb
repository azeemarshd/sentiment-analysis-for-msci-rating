{
 "cells": [
  {
   "cell_type": "code",
   "execution_count": 2,
   "metadata": {},
   "outputs": [],
   "source": [
    "\n",
    "import pandas as pd\n",
    "import os\n",
    "from tqdm import tqdm\n",
    "\n",
    "from Parsers.pv_parser import RollePVParser\n",
    "        \n"
   ]
  },
  {
   "cell_type": "code",
   "execution_count": null,
   "metadata": {},
   "outputs": [],
   "source": []
  },
  {
   "cell_type": "code",
   "execution_count": 8,
   "metadata": {},
   "outputs": [
    {
     "name": "stderr",
     "output_type": "stream",
     "text": [
      "100%|██████████| 8/8 [00:00<00:00, 133.75it/s]"
     ]
    },
    {
     "name": "stdout",
     "output_type": "stream",
     "text": [
      "Writing 220201.csv\n",
      "Writing 220315.csv\n",
      "Writing 220510.csv\n",
      "Writing 220621.csv\n",
      "Writing 220906.csv\n",
      "Writing 221004.csv\n",
      "Writing 221213.csv\n"
     ]
    },
    {
     "name": "stderr",
     "output_type": "stream",
     "text": [
      "\n"
     ]
    }
   ],
   "source": [
    "rolle_2023_path = \"./data/csv_data/rolle_2022/\"\n",
    "\n",
    "\n",
    "for file in tqdm(os.listdir(rolle_2023_path)):\n",
    "    if file.endswith(\".csv\"):\n",
    "        print(f\"Writing {file}\")\n",
    "        \n",
    "        df = pd.read_csv(rolle_2023_path + file)\n",
    "        # remove rows with NaN values\n",
    "        df = df.dropna()\n",
    "        # remove rows with empty strings\n",
    "        df = df[(df.T != '').all()]\n",
    "        # check rows with other values than string in the \"text\" column and break if found\n",
    "        for index, row in df.iterrows():\n",
    "            if not isinstance(row[\"text\"], str):\n",
    "                print(f\"Found non-string value in {file} at index {index}\")\n",
    "                break\n",
    "        \n",
    "        # save the cleaned data \n",
    "        df.to_csv(rolle_2023_path + file, index=False)\n",
    "        \n"
   ]
  },
  {
   "cell_type": "code",
   "execution_count": 3,
   "metadata": {},
   "outputs": [
    {
     "ename": "ModuleNotFoundError",
     "evalue": "No module named 'chardet'",
     "output_type": "error",
     "traceback": [
      "\u001b[1;31m---------------------------------------------------------------------------\u001b[0m",
      "\u001b[1;31mModuleNotFoundError\u001b[0m                       Traceback (most recent call last)",
      "Cell \u001b[1;32mIn[3], line 2\u001b[0m\n\u001b[0;32m      1\u001b[0m \u001b[38;5;28;01mimport\u001b[39;00m \u001b[38;5;21;01mos\u001b[39;00m\n\u001b[1;32m----> 2\u001b[0m \u001b[38;5;28;01mimport\u001b[39;00m \u001b[38;5;21;01mchardet\u001b[39;00m\n\u001b[0;32m      4\u001b[0m \u001b[38;5;66;03m# view encoding of files in the folder\u001b[39;00m\n\u001b[0;32m      5\u001b[0m path \u001b[38;5;241m=\u001b[39m \u001b[38;5;124m\"\u001b[39m\u001b[38;5;124m./data/csv_data/nyon_2022/prediction_results\u001b[39m\u001b[38;5;124m\"\u001b[39m\n",
      "\u001b[1;31mModuleNotFoundError\u001b[0m: No module named 'chardet'"
     ]
    }
   ],
   "source": [
    "import os\n",
    "import chardet\n",
    "\n",
    "# view encoding of files in the folder\n",
    "path = \"./data/csv_data/nyon_2022/prediction_results\"\n",
    "for file in os.listdir(path):\n",
    "    if file.endswith(\".csv\"):\n",
    "        print(f\"{file} encoding is: {chardet.detect(open(path + file, 'rb').read())}\")\n",
    "        "
   ]
  }
 ],
 "metadata": {
  "kernelspec": {
   "display_name": "env",
   "language": "python",
   "name": "python3"
  },
  "language_info": {
   "codemirror_mode": {
    "name": "ipython",
    "version": 3
   },
   "file_extension": ".py",
   "mimetype": "text/x-python",
   "name": "python",
   "nbconvert_exporter": "python",
   "pygments_lexer": "ipython3",
   "version": "3.11.2"
  }
 },
 "nbformat": 4,
 "nbformat_minor": 2
}
