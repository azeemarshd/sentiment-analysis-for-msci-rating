{
 "cells": [
  {
   "cell_type": "code",
   "execution_count": 1,
   "metadata": {},
   "outputs": [],
   "source": [
    "from transformers import pipeline\n",
    "import transformers\n",
    "import pandas as pd\n",
    "from tqdm import tqdm\n",
    "from easynmt import EasyNMT\n",
    "import warnings\n",
    "warnings.filterwarnings('ignore')\n",
    "\n",
    "# reload automatically notebook\n",
    "%load_ext autoreload\n",
    "%autoreload 2\n",
    "\n",
    "# transofrmer warnigns off\n",
    "transformers.logging.set_verbosity_error()\n",
    "\n"
   ]
  },
  {
   "cell_type": "code",
   "execution_count": 2,
   "metadata": {},
   "outputs": [],
   "source": [
    "ESG_DICT = {\n",
    "    \"environnemental\": [\"changement climatique\", \"capital naturel\", \"pollution et déchets\", \"Opportunités environnementales\"],\n",
    "    \"social\": [\"capital humain\", \"responsabilité du produit\", \"opposition des parties prenantes\", \"opportunités sociales\", \"services publiques\"],\n",
    "    \"gouvernance\": [\"gouvernance d'entreprises\", \"comportement d'entreprises\"],\n",
    "    \"non-esg\": [\"autre\",\"divertissement\"]\n",
    "}\n",
    "\n",
    "CANDIDATE_LABELS = list(ESG_DICT.values())\n",
    "CANDIDATE_LABELS = [item for sublist in CANDIDATE_LABELS for item in sublist]\n",
    "\n",
    "\n",
    "cb_base = pipeline(\"zero-shot-classification\", model=\"camembert-base\")\n",
    "cb_large = pipeline(\"zero-shot-classification\", model=\"camembert/camembert-large\")\n",
    "mDeBert_base = pipeline(\"zero-shot-classification\", model=\"MoritzLaurer/mDeBERTa-v3-base-mnli-xnli\")\n",
    "\n",
    "mDeBert_en = pipeline(\"zero-shot-classification\", model=\"MoritzLaurer/deberta-v3-large-zeroshot-v1.1-all-33\")\n",
    "translator_model = EasyNMT('opus-mt',cache_folder=\"./NMT_model_cache\")\n",
    "\n",
    "\n",
    "# test_data = pd.read_csv(\"../data/final_test_esg2.csv\")\n",
    "# test_data.esg_category.unique()\n"
   ]
  },
  {
   "cell_type": "code",
   "execution_count": 3,
   "metadata": {},
   "outputs": [],
   "source": [
    "test_data_raw = pd.read_csv(\"../../datasets/final_dataset/esg_fr.csv\")\n",
    "# extract only columns text_en and esg_category\n",
    "test_data_en = test_data_raw[[\"text_en\",\"text_fr\", \"esg_category\"]]\n",
    "\n",
    "# remove rows with nan in text_en\n",
    "test_data_en = test_data_en.dropna(subset=[\"text_en\"])\n",
    "\n",
    "test_data = pd.concat(\n",
    "    [\n",
    "        test_data_en[test_data_en[\"esg_category\"] == \"environmental\"].sample(150, random_state=42),\n",
    "        test_data_en[test_data_en[\"esg_category\"] == \"social\"].sample(150, random_state=42),\n",
    "        test_data_en[test_data_en[\"esg_category\"] == \"governance\"].sample(150, random_state=42),\n",
    "        test_data_en[test_data_en[\"esg_category\"] == \"non-esg\"].sample(150, random_state=42)\n",
    "    ]\n",
    ")"
   ]
  },
  {
   "cell_type": "code",
   "execution_count": 4,
   "metadata": {},
   "outputs": [],
   "source": [
    "def translate(text:str, model)->str:\n",
    "    return model.translate(text, source_lang=\"fr\", target_lang=\"en\")\n",
    "\n",
    "def predict_sample(sample, model,  candidate_labels, top_k = 3, return_all = False, translate_input = False):\n",
    "    if translate_input: \n",
    "        translated_sample = translate(sample, translator_model)\n",
    "        output = model(translated_sample, candidate_labels, multi_label=False)\n",
    "    else: output = model(sample, candidate_labels, multi_label=False)\n",
    "    \n",
    "    output_df = pd.DataFrame(output)[[\"labels\", \"scores\"]][:top_k]\n",
    "    # find the key from the esg_dict\n",
    "    output_df[\"key_label\"] = output_df[\"labels\"].apply(lambda x: [key for key, value in ESG_DICT.items() if x in value][0])\n",
    "    \n",
    "    count_dict = {}\n",
    "    for label in output_df[\"key_label\"]:\n",
    "        count_dict[label] = count_dict.get(label, 0) + 1\n",
    "\n",
    "    best_choice = max(count_dict, key=count_dict.get)\n",
    "    \n",
    "    if return_all: return output_df, best_choice\n",
    "    \n",
    "    return best_choice\n",
    "\n",
    "def predict_df(df,model,candidate_labels, text_column = \"text\", output_label_column = \"esg_predictor\", translate_input=False):\n",
    "    # df['esg_predictor'] = df[text_column].apply(self.predict)\n",
    "    tqdm.pandas(desc=f\"Predicting ...\")\n",
    "    df[output_label_column] = df[text_column].progress_apply(predict_sample, model=model, candidate_labels=candidate_labels, translate_input=translate_input)\n",
    "    return df\n",
    "\n"
   ]
  },
  {
   "cell_type": "code",
   "execution_count": 5,
   "metadata": {},
   "outputs": [
    {
     "name": "stderr",
     "output_type": "stream",
     "text": [
      "Predicting ...: 100%|██████████| 600/600 [28:42<00:00,  2.87s/it]\n",
      "Predicting ...: 100%|██████████| 600/600 [1:42:07<00:00, 10.21s/it]\n",
      "Predicting ...: 100%|██████████| 600/600 [2:09:12<00:00, 12.92s/it]  \n"
     ]
    }
   ],
   "source": [
    "df_res = predict_df(test_data, model=cb_base, candidate_labels=CANDIDATE_LABELS, output_label_column=\"cb_base_pred\",text_column=\"text_fr\")\n",
    "df_res = predict_df(df_res, model=cb_large, candidate_labels=CANDIDATE_LABELS, output_label_column=\"cb_large_pred\",text_column=\"text_fr\")\n",
    "# df_res = predict_df(df_res, model=mDeBert_base, candidate_labels=CANDIDATE_LABELS, output_label_column=\"mDeBert_base_pred\",text_column=\"text_fr\")\n",
    "df_res = predict_df(df_res, model=mDeBert_en, candidate_labels=CANDIDATE_LABELS, output_label_column=\"mDeBert_en_pred\", text_column=\"text_en\")\n"
   ]
  },
  {
   "cell_type": "code",
   "execution_count": 4,
   "metadata": {},
   "outputs": [
    {
     "name": "stdout",
     "output_type": "stream",
     "text": [
      "['environmental' 'social' 'governance' 'non-esg']\n",
      "Classification report for cb_base_pred\n",
      "                 precision    recall  f1-score   support\n",
      "\n",
      "environnemental       0.25      0.89      0.39       150\n",
      "    gouvernance       0.38      0.09      0.14       150\n",
      "        non-esg       0.33      0.01      0.01       150\n",
      "         social       0.26      0.04      0.07       150\n",
      "\n",
      "       accuracy                           0.26       600\n",
      "      macro avg       0.31      0.26      0.15       600\n",
      "   weighted avg       0.31      0.26      0.15       600\n",
      "\n",
      "Classification report for cb_large_pred\n",
      "                 precision    recall  f1-score   support\n",
      "\n",
      "environnemental       0.29      0.35      0.32       150\n",
      "    gouvernance       0.27      0.33      0.30       150\n",
      "        non-esg       0.27      0.22      0.24       150\n",
      "         social       0.33      0.27      0.30       150\n",
      "\n",
      "       accuracy                           0.29       600\n",
      "      macro avg       0.29      0.29      0.29       600\n",
      "   weighted avg       0.29      0.29      0.29       600\n",
      "\n",
      "Classification report for mDeBert_base_pred\n",
      "Classification report for mDeBert_en_pred\n",
      "                 precision    recall  f1-score   support\n",
      "\n",
      "environnemental       0.97      0.63      0.77       150\n",
      "    gouvernance       0.58      0.78      0.67       150\n",
      "        non-esg       0.52      0.19      0.27       150\n",
      "         social       0.37      0.61      0.46       150\n",
      "\n",
      "       accuracy                           0.55       600\n",
      "      macro avg       0.61      0.55      0.54       600\n",
      "   weighted avg       0.61      0.55      0.54       600\n",
      "\n"
     ]
    }
   ],
   "source": [
    "df_res = pd.read_csv(\"./baseline_results.csv\")\n",
    "print(df_res.esg_category.unique())\n",
    "# replace environmental with environnemental\n",
    "df_res.esg_category = df_res.esg_category.replace(\"environmental\", \"environnemental\")\n",
    "df_res.esg_category = df_res.esg_category.replace(\"governance\", \"gouvernance\")\n",
    "\n",
    "# classification report for cb_base_pred and cb_large_pred\n",
    "from sklearn.metrics import classification_report\n",
    "print(\"Classification report for cb_base_pred\")\n",
    "print(classification_report(df_res.esg_category, df_res.cb_base_pred, zero_division=0))\n",
    "print(\"Classification report for cb_large_pred\")\n",
    "print(classification_report(df_res.esg_category, df_res.cb_large_pred, zero_division=0))\n",
    "print(\"Classification report for mDeBert_base_pred\")\n",
    "# print(classification_report(df_res.esg_category, df_res.mDeBert_base_pred))\n",
    "print(\"Classification report for mDeBert_en_pred\")\n",
    "print(classification_report(df_res.esg_category, df_res.mDeBert_en_pred))\n"
   ]
  },
  {
   "cell_type": "markdown",
   "metadata": {},
   "source": [
    "# Logistic regression with TF-IDF"
   ]
  },
  {
   "cell_type": "code",
   "execution_count": 22,
   "metadata": {},
   "outputs": [
    {
     "name": "stdout",
     "output_type": "stream",
     "text": [
      "                                                text     esg_category\n",
      "0  Les niveaux de dioxyde de carbone intérieur po...  environnemental\n",
      "1  Le prix de l'électricité est déroutant sanglan...  environnemental\n",
      "2  La migration de masse n'est pas une crise: c'e...  environnemental\n",
      "3  La rupture du climat arrive. Le Royaume-Uni a ...  environnemental\n",
      "4  Le changement climatique forçant déjà les oise...  environnemental\n",
      "                                                     text     esg_category\n",
      "count                                               16986            16986\n",
      "unique                                              16802                4\n",
      "top     Les travailleurs du BHS partagent un paiement ...  environnemental\n",
      "freq                                                    4             4428\n",
      "(16986, 2)\n"
     ]
    }
   ],
   "source": [
    "\n",
    "import pandas as pd\n",
    "from sklearn.model_selection import train_test_split\n",
    "from sklearn.feature_extraction.text import TfidfVectorizer\n",
    "from sklearn.linear_model import LogisticRegression\n",
    "from sklearn.metrics import accuracy_score, classification_report\n",
    "\n",
    "\n",
    "data = pd.read_csv(\"../data/esg_fr_classification.csv\")\n",
    "print(data.head())\n",
    "print(data.describe())\n",
    "\n",
    "print(data.shape)\n"
   ]
  },
  {
   "cell_type": "code",
   "execution_count": 21,
   "metadata": {},
   "outputs": [
    {
     "name": "stdout",
     "output_type": "stream",
     "text": [
      "Epoch 1/15, Loss: 0.49407856976296854\n",
      "Epoch 2/15, Loss: 0.490616788934252\n",
      "Epoch 3/15, Loss: 0.48984334662247664\n",
      "Epoch 4/15, Loss: 0.48951731928563086\n",
      "Epoch 5/15, Loss: 0.4893609424681392\n",
      "Epoch 6/15, Loss: 0.4892845456010279\n",
      "Epoch 7/15, Loss: 0.48924703962829214\n",
      "Epoch 8/15, Loss: 0.4892285704657351\n",
      "Epoch 9/15, Loss: 0.4892194518281667\n",
      "Epoch 10/15, Loss: 0.4892149390522156\n",
      "Epoch 11/15, Loss: 0.48921270084112856\n",
      "Epoch 12/15, Loss: 0.48921158853625474\n",
      "Epoch 13/15, Loss: 0.4892110347503988\n",
      "Epoch 14/15, Loss: 0.48921075857122237\n",
      "Epoch 15/15, Loss: 0.48921062062433784\n",
      "Accuracy: 0.8293113596233078\n",
      "Classification Report:\n",
      "                  precision    recall  f1-score   support\n",
      "\n",
      "environnemental       0.96      0.88      0.92       865\n",
      "    gouvernance       0.88      0.87      0.88       833\n",
      "        non-esg       0.70      0.81      0.75       860\n",
      "         social       0.81      0.76      0.78       840\n",
      "\n",
      "       accuracy                           0.83      3398\n",
      "      macro avg       0.84      0.83      0.83      3398\n",
      "   weighted avg       0.84      0.83      0.83      3398\n",
      "\n"
     ]
    },
    {
     "data": {
      "image/png": "[encoded data removed]",
      "text/plain": [
       "<Figure size 640x480 with 1 Axes>"
      ]
     },
     "metadata": {},
     "output_type": "display_data"
    }
   ],
   "source": [
    "import pandas as pd\n",
    "import matplotlib.pyplot as plt\n",
    "from sklearn.model_selection import train_test_split\n",
    "from sklearn.feature_extraction.text import TfidfVectorizer\n",
    "from sklearn.linear_model import SGDClassifier\n",
    "from sklearn.metrics import accuracy_score, classification_report\n",
    "# improt log_loss\n",
    "from sklearn.metrics import log_loss\n",
    "\n",
    "\n",
    "# Train-test split\n",
    "X_train, X_test, y_train, y_test = train_test_split(data['text'], data['esg_category'], test_size=0.2, random_state=42)\n",
    "\n",
    "# TF-IDF Vectorizer\n",
    "tfidf = TfidfVectorizer(max_features=5000)\n",
    "X_train_tfidf = tfidf.fit_transform(X_train)\n",
    "X_test_tfidf = tfidf.transform(X_test)\n",
    "\n",
    "# SGDClassifier for logistic regression with loss tracking\n",
    "clf = SGDClassifier(loss='log_loss', max_iter=1, tol=None, random_state=42, warm_start=True, early_stopping=True, n_iter_no_change=5, validation_fraction=0.2)\n",
    "\n",
    "# Training the model and capturing the loss\n",
    "training_losses = []\n",
    "\n",
    "def monitor_loss(sgd_classifier, X, y, epochs):\n",
    "    for i in range(epochs):\n",
    "        sgd_classifier.fit(X, y)\n",
    "        y_proba = sgd_classifier.predict_proba(X)\n",
    "        loss = log_loss(y, y_proba)\n",
    "        training_losses.append(loss)\n",
    "        print(f\"Epoch {i+1}/{epochs}, Loss: {loss}\")\n",
    "\n",
    "# Using custom function to monitor loss\n",
    "monitor_loss(clf, X_train_tfidf, y_train, epochs=15)\n",
    "\n",
    "# Predict on test data\n",
    "y_pred = clf.predict(X_test_tfidf)\n",
    "\n",
    "# Evaluation\n",
    "print(\"Accuracy:\", accuracy_score(y_test, y_pred))\n",
    "print(\"Classification Report:\\n\", classification_report(y_test, y_pred))\n",
    "\n",
    "# Plotting the training loss\n",
    "plt.plot(training_losses)\n",
    "plt.xlabel('Epochs')\n",
    "plt.ylabel('Training Loss')\n",
    "plt.title('Training Loss Over Time')\n",
    "plt.show()"
   ]
  },
  {
   "cell_type": "code",
   "execution_count": 20,
   "metadata": {},
   "outputs": [
    {
     "name": "stdout",
     "output_type": "stream",
     "text": [
      "Accuracy: 0.6197183098591549\n",
      "Classification Report:\n",
      "                  precision    recall  f1-score   support\n",
      "\n",
      "environnemental       0.75      0.50      0.60        18\n",
      "    gouvernance       0.71      0.71      0.71        14\n",
      "        non-esg       0.50      0.79      0.61        19\n",
      "         social       0.67      0.50      0.57        20\n",
      "\n",
      "       accuracy                           0.62        71\n",
      "      macro avg       0.66      0.63      0.62        71\n",
      "   weighted avg       0.65      0.62      0.62        71\n",
      "\n"
     ]
    }
   ],
   "source": [
    "test_data = pd.read_csv(\"../data/final_test_esg2.csv\")\n",
    "y_pred = clf.predict(tfidf.transform(test_data['text']))\n",
    "print(\"Accuracy:\", accuracy_score(test_data['esg_category'], y_pred))\n",
    "print(\"Classification Report:\\n\", classification_report(test_data['esg_category'], y_pred))"
   ]
  },
  {
   "cell_type": "code",
   "execution_count": null,
   "metadata": {},
   "outputs": [],
   "source": []
  }
 ],
 "metadata": {
  "kernelspec": {
   "display_name": "env",
   "language": "python",
   "name": "python3"
  },
  "language_info": {
   "codemirror_mode": {
    "name": "ipython",
    "version": 3
   },
   "file_extension": ".py",
   "mimetype": "text/x-python",
   "name": "python",
   "nbconvert_exporter": "python",
   "pygments_lexer": "ipython3",
   "version": "3.11.2"
  }
 },
 "nbformat": 4,
 "nbformat_minor": 2
}
